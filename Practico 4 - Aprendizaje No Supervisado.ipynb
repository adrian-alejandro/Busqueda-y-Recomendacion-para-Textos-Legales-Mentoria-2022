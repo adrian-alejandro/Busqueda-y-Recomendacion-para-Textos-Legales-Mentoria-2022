{
 "cells": [
  {
   "cell_type": "markdown",
   "metadata": {},
   "source": [
    "### Universidad Nacional de Córdoba - Facultad de Matemática, Astronomía, Física y Computación\n",
    "\n",
    "### Diplomatura en Ciencia de Datos, Aprendizaje Automático y sus Aplicaciones 2022\n",
    "Búsqueda y Recomendación para Textos Legales\n",
    "\n",
    "Mentor: Jorge E. Pérez Villella\n",
    "\n",
    "# Práctico Aprendizaje No Supervisado\n",
    "\n",
    "Integrantes:\n",
    "* Fernando Agustin Cardellino\n",
    "* Adrian Zelaya"
   ]
  },
  {
   "attachments": {},
   "cell_type": "markdown",
   "metadata": {},
   "source": [
    "### Objetivos:\n",
    "\n",
    "Encontrar los temas comunes a los documentos, sin tener en cuenta al fuero al que pertenecen.\n",
    "\n",
    "* Realizar Topic Modeling utilizando LDA (Latent Dirichlet Allocation) y (NMF) Non-negative Matrix Factorization sobre el corpus. \n",
    "\n",
    "* Evaluar velocidad de proceso para saber cuál de los dos es más rápido y cual tiene la agrupación de tópicos más cercana a lo que podrían ser clases válidas para la agrupación de documentos. Es decir, si se corresponden al fuero originario: penal, laboral, familia o menores.\n",
    "\n",
    "Opcional:\n",
    "\n",
    "* Realizar el proceso utilizando Gensim-Doc2Vec. Generar un input texto y traer los tres documentos con mayor similitud semántica al texto ingresado\n",
    "\n",
    "Fecha de Entrega: 26 de agosto de 2022"
   ]
  }
 ],
 "metadata": {
  "kernelspec": {
   "display_name": "Python 3",
   "language": "python",
   "name": "python3"
  },
  "language_info": {
   "codemirror_mode": {
    "name": "ipython",
    "version": 3
   },
   "file_extension": ".py",
   "mimetype": "text/x-python",
   "name": "python",
   "nbconvert_exporter": "python",
   "pygments_lexer": "ipython3",
   "version": "3.8.5"
  }
 },
 "nbformat": 4,
 "nbformat_minor": 4
}
